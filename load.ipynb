{
 "cells": [
  {
   "cell_type": "code",
   "execution_count": null,
   "metadata": {},
   "outputs": [],
   "source": [
    "from dotenv import load_dotenv\n",
    "load_dotenv('.env.local')\n",
    "import os\n",
    "from openai import OpenAI\n",
    "from pinecone import Pinecone, ServerlessSpec"
   ]
  },
  {
   "cell_type": "code",
   "execution_count": null,
   "metadata": {},
   "outputs": [],
   "source": [
    "api_key = os.getenv(\"PINECONE_API_KEY\")\n",
    "pc = Pinecone(api_key)\n",
    "\n",
    "pc.create_index(\n",
    "    name = \"rmw\", dimension=1536, metric=\"cosine\", spec=ServerlessSpec(cloud=\"aws\", region=\"us-east-1\")\n",
    ")   \n"
   ]
  },
  {
   "cell_type": "code",
   "execution_count": null,
   "metadata": {},
   "outputs": [],
   "source": [
    "import json\n",
    "data = json.load(open(\"reviews.json\"))\n",
    "data['reviews']\n"
   ]
  },
  {
   "cell_type": "code",
   "execution_count": 6,
   "metadata": {},
   "outputs": [],
   "source": [
    "for review in data['reviews']:\n",
    "    if all(key in review for key in [\"Work-Life Balance\", \"Compensation and Benefits\", \n",
    "                                     \"Career Growth and Development Opportunities\", \n",
    "                                     \"Company Culture\", \"Leadership and Management\"]):\n",
    "        combined_input = (\n",
    "            f\"Work-Life Balance: {review['Work-Life Balance']}, \"\n",
    "            f\"Compensation and Benefits: {review['Compensation and Benefits']}, \"\n",
    "            f\"Career Growth and Development Opportunities: {review['Career Growth and Development Opportunities']}, \"\n",
    "            f\"Company Culture: {review['Company Culture']}, \"\n",
    "            f\"Leadership and Management: {review['Leadership and Management']}\"\n",
    "        )\n",
    "process_data =[]\n",
    "client = OpenAI()\n",
    "\n",
    "for review in data['reviews']:\n",
    "    response = client.embeddings.create(\n",
    "        input=combined_input,\n",
    "        model = \"text-embedding-3-small\",\n",
    "    )\n",
    "\n",
    "    embedding = response.data[0].embedding\n",
    "    process_data.append({\n",
    "        \"values\": embedding,\n",
    "        \"id\": review[\"Company\"],\n",
    "        \"metadata\":{\n",
    "            \"Work-Life Balance\": review[\"Work-Life Balance\"],\n",
    "            \"Compensation and Benefits\": review[\"Compensation and Benefits\"],\n",
    "            \"Career Growth and Development Opportunities\": review[\"Career Growth and Development Opportunities\"],\n",
    "            \"Company Culture\": review[\"Company Culture\"],\n",
    "            \"Leadership and Management\": review[\"Leadership and Management\"],\n",
    "            \"Stars\": review[\"Stars\"]\n",
    "        }\n",
    "    })\n"
   ]
  },
  {
   "cell_type": "code",
   "execution_count": 15,
   "metadata": {},
   "outputs": [
    {
     "data": {
      "text/plain": [
       "{'Work-Life Balance': 'Very good',\n",
       " 'Compensation and Benefits': 'Competitive',\n",
       " 'Career Growth and Development Opportunities': 'Abundant',\n",
       " 'Company Culture': 'Entrepreneurial and supportive',\n",
       " 'Leadership and Management': 'Inspiring',\n",
       " 'Stars': 4}"
      ]
     },
     "execution_count": 15,
     "metadata": {},
     "output_type": "execute_result"
    }
   ],
   "source": [
    "# process_data[18][\"metadata\"]"
   ]
  },
  {
   "cell_type": "code",
   "execution_count": 12,
   "metadata": {},
   "outputs": [
    {
     "data": {
      "text/plain": [
       "{'upserted_count': 20}"
      ]
     },
     "execution_count": 12,
     "metadata": {},
     "output_type": "execute_result"
    }
   ],
   "source": [
    "index = pc.Index('rmw')\n",
    "index.upsert(\n",
    "    vectors=process_data,\n",
    "    namespace=\"ns1\"\n",
    ")\n"
   ]
  },
  {
   "cell_type": "code",
   "execution_count": 28,
   "metadata": {},
   "outputs": [
    {
     "data": {
      "text/plain": [
       "{'dimension': 1536,\n",
       " 'index_fullness': 0.0,\n",
       " 'namespaces': {'ns1': {'vector_count': 20}},\n",
       " 'total_vector_count': 20}"
      ]
     },
     "execution_count": 28,
     "metadata": {},
     "output_type": "execute_result"
    }
   ],
   "source": [
    "index.describe_index_stats()"
   ]
  }
 ],
 "metadata": {
  "kernelspec": {
   "display_name": "rag",
   "language": "python",
   "name": "python3"
  },
  "language_info": {
   "codemirror_mode": {
    "name": "ipython",
    "version": 3
   },
   "file_extension": ".py",
   "mimetype": "text/x-python",
   "name": "python",
   "nbconvert_exporter": "python",
   "pygments_lexer": "ipython3",
   "version": "3.10.14"
  }
 },
 "nbformat": 4,
 "nbformat_minor": 2
}
